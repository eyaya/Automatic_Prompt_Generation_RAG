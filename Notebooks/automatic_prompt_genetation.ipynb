{
 "cells": [
  {
   "cell_type": "code",
   "execution_count": 1,
   "metadata": {},
   "outputs": [
    {
     "name": "stderr",
     "output_type": "stream",
     "text": [
      "/home/eyaya/Desktop/Challenges/Week_6/Automatic_Prompt_Generation _RAG/ragenv/lib/python3.10/site-packages/tqdm/auto.py:21: TqdmWarning: IProgress not found. Please update jupyter and ipywidgets. See https://ipywidgets.readthedocs.io/en/stable/user_install.html\n",
      "  from .autonotebook import tqdm as notebook_tqdm\n"
     ]
    },
    {
     "data": {
      "text/plain": [
       "True"
      ]
     },
     "execution_count": 1,
     "metadata": {},
     "output_type": "execute_result"
    }
   ],
   "source": [
    "# Import necessary modules\n",
    "from langchain_community.document_loaders import HuggingFaceDatasetLoader\n",
    "from langchain.text_splitter import RecursiveCharacterTextSplitter\n",
    "from langchain.storage import LocalFileStore\n",
    "#from langchain.embeddings.openai import OpenAIEmbeddings\n",
    "from langchain_openai import ChatOpenAI, OpenAI\n",
    "from langchain.embeddings import CacheBackedEmbeddings, OpenAIEmbeddings\n",
    "from langchain_community.vectorstores import Chroma\n",
    "from langchain.prompts import ChatPromptTemplate\n",
    "from langchain_core.output_parsers import StrOutputParser\n",
    "from langchain_core.runnables import RunnableLambda, RunnablePassthrough\n",
    "from tqdm.auto import tqdm\n",
    "from langchain import text_splitter\n",
    "from langchain import PromptTemplate\n",
    "from langchain.prompts.chat import (\n",
    "    ChatPromptTemplate,\n",
    "    SystemMessagePromptTemplate,\n",
    "    HumanMessagePromptTemplate,\n",
    ")\n",
    "from langchain.chains import LLMChain\n",
    "from langchain.chains import RetrievalQA\n",
    "from langchain.document_loaders import PyPDFLoader\n",
    "from langchain.text_splitter import TokenTextSplitter\n",
    "from langchain.text_splitter import CharacterTextSplitter\n",
    "from langchain.document_loaders import TextLoader\n",
    "from typing import List\n",
    "from langchain.schema import Document\n",
    "from uuid import uuid4\n",
    "from dotenv import load_dotenv\n",
    "import os\n",
    "load_dotenv()"
   ]
  },
  {
   "cell_type": "code",
   "execution_count": 2,
   "metadata": {},
   "outputs": [],
   "source": [
    "OPENAI_API_KEY = os.environ.get('openai_api_key')"
   ]
  },
  {
   "cell_type": "code",
   "execution_count": 3,
   "metadata": {},
   "outputs": [
    {
     "name": "stderr",
     "output_type": "stream",
     "text": [
      "/home/eyaya/Desktop/Challenges/Week_6/Automatic_Prompt_Generation _RAG/ragenv/lib/python3.10/site-packages/datasets/load.py:2483: FutureWarning: 'use_auth_token' was deprecated in favor of 'token' in version 2.14.0 and will be removed in 3.0.0.\n",
      "You can remove this warning by passing 'token=<use_auth_token>' instead.\n",
      "  warnings.warn(\n"
     ]
    },
    {
     "data": {
      "text/plain": [
       "[Document(page_content='\"I want you to act as a linux terminal. I will type commands and you will reply with what the terminal should show. I want you to only reply with the terminal output inside one unique code block, and nothing else. do not write explanations. do not type commands unless I instruct you to do so. when i need to tell you something in english, i will do so by putting text inside curly brackets {like this}. my first command is pwd\"', metadata={'act': 'Linux Terminal'}),\n",
       " Document(page_content='\"I want you to act as an English translator, spelling corrector and improver. I will speak to you in any language and you will detect the language, translate it and answer in the corrected and improved version of my text, in English. I want you to replace my simplified A0-level words and sentences with more beautiful and elegant, upper level English words and sentences. Keep the meaning same, but make them more literary. I want you to only reply the correction, the improvements and nothing else, do not write explanations. My first sentence is \\\\\"istanbulu cok seviyom burada olmak cok guzel\\\\\"\"', metadata={'act': 'English Translator and Improver'}),\n",
       " Document(page_content='\"I want you to act as an interviewer. I will be the candidate and you will ask me the interview questions for the `position` position. I want you to only reply as the interviewer. Do not write all the conservation at once. I want you to only do the interview with me. Ask me the questions and wait for my answers. Do not write explanations. Ask me the questions one by one like an interviewer does and wait for my answers. My first sentence is \\\\\"Hi\\\\\"\"', metadata={'act': '`position` Interviewer'}),\n",
       " Document(page_content='\"I want you to act as a javascript console. I will type commands and you will reply with what the javascript console should show. I want you to only reply with the terminal output inside one unique code block, and nothing else. do not write explanations. do not type commands unless I instruct you to do so. when i need to tell you something in english, i will do so by putting text inside curly brackets {like this}. my first command is console.log(\\\\\"Hello World\\\\\");\"', metadata={'act': 'JavaScript Console'}),\n",
       " Document(page_content='\"I want you to act as a text based excel. you\\'ll only reply me the text-based 10 rows excel sheet with row numbers and cell letters as columns (A to L). First column header should be empty to reference row number. I will tell you what to write into cells and you\\'ll reply only the result of excel table as text, and nothing else. Do not write explanations. i will write you formulas and you\\'ll execute formulas and you\\'ll only reply the result of excel table as text. First, reply me the empty sheet.\"', metadata={'act': 'Excel Sheet'}),\n",
       " Document(page_content='\"I want you to act as an English pronunciation assistant for Turkish speaking people. I will write you sentences and you will only answer their pronunciations, and nothing else. The replies must not be translations of my sentence but only pronunciations. Pronunciations should use Turkish Latin letters for phonetics. Do not write explanations on replies. My first sentence is \\\\\"how the weather is in Istanbul?\\\\\"\"', metadata={'act': 'English Pronunciation Helper'}),\n",
       " Document(page_content='\"I want you to act as a spoken English teacher and improver. I will speak to you in English and you will reply to me in English to practice my spoken English. I want you to keep your reply neat, limiting the reply to 100 words. I want you to strictly correct my grammar mistakes, typos, and factual errors. I want you to ask me a question in your reply. Now let\\'s start practicing, you could ask me a question first. Remember, I want you to strictly correct my grammar mistakes, typos, and factual errors.\"', metadata={'act': 'Spoken English Teacher and Improver'}),\n",
       " Document(page_content='\"I want you to act as a travel guide. I will write you my location and you will suggest a place to visit near my location. In some cases, I will also give you the type of places I will visit. You will also suggest me places of similar type that are close to my first location. My first suggestion request is \\\\\"I am in Istanbul/Beyo\\\\u011flu and I want to visit only museums.\\\\\"\"', metadata={'act': 'Travel Guide'}),\n",
       " Document(page_content='\"I want you to act as a plagiarism checker. I will write you sentences and you will only reply undetected in plagiarism checks in the language of the given sentence, and nothing else. Do not write explanations on replies. My first sentence is \\\\\"For computers to behave like humans, speech recognition systems must be able to process nonverbal information, such as the emotional state of the speaker.\\\\\"\"', metadata={'act': 'Plagiarism Checker'}),\n",
       " Document(page_content='\"I want you to act like {character} from {series}. I want you to respond and answer like {character} using the tone, manner and vocabulary {character} would use. Do not write any explanations. Only answer like {character}. You must know all of the knowledge of {character}. My first sentence is \\\\\"Hi {character}.\\\\\"\"', metadata={'act': 'Character from Movie/Book/Anything'})]"
      ]
     },
     "execution_count": 3,
     "metadata": {},
     "output_type": "execute_result"
    }
   ],
   "source": [
    "dataset_name = \"fka/awesome-chatgpt-prompts\"\n",
    "# Specify the dataset name and the column containing the content\n",
    "page_content_column = \"prompt\"   # or any other column you're interested in\n",
    "# Create a loader instance\n",
    "loader = HuggingFaceDatasetLoader(dataset_name, page_content_column)\n",
    "# Load the data\n",
    "data = loader.load()\n",
    "# Display the first 10 entries\n",
    "data[:10]"
   ]
  },
  {
   "cell_type": "code",
   "execution_count": 4,
   "metadata": {},
   "outputs": [
    {
     "data": {
      "text/plain": [
       "Document(page_content='answer in the corrected and improved version of', metadata={'act': 'English Translator and Improver'})"
      ]
     },
     "execution_count": 4,
     "metadata": {},
     "output_type": "execute_result"
    }
   ],
   "source": [
    "# Create an instance of the RecursiveCharacterTextSplitter class with specific parameters.\n",
    "# It splits text into chunks of 1000 characters each with a 150-character overlap.\n",
    "text_splitter = RecursiveCharacterTextSplitter(chunk_size=50, chunk_overlap=10)\n",
    "# 'data' holds the text you want to split, split the text into documents using the text splitter.\n",
    "docs = text_splitter.split_documents(data)\n",
    "# Display the first 15 documents\n",
    "docs[15]"
   ]
  },
  {
   "cell_type": "code",
   "execution_count": 5,
   "metadata": {},
   "outputs": [
    {
     "name": "stderr",
     "output_type": "stream",
     "text": [
      "/home/eyaya/Desktop/Challenges/Week_6/Automatic_Prompt_Generation _RAG/ragenv/lib/python3.10/site-packages/langchain_core/_api/deprecation.py:117: LangChainDeprecationWarning: The class `langchain_community.embeddings.openai.OpenAIEmbeddings` was deprecated in langchain-community 0.1.0 and will be removed in 0.2.0. An updated version of the class exists in the langchain-openai package and should be used instead. To use it run `pip install -U langchain-openai` and import as `from langchain_openai import OpenAIEmbeddings`.\n",
      "  warn_deprecated(\n"
     ]
    }
   ],
   "source": [
    "store = LocalFileStore(\"./cachce/\")\n",
    "\n",
    "# create an embedder\n",
    "core_embeddings_model = OpenAIEmbeddings(openai_api_key=OPENAI_API_KEY)\n",
    "\n",
    "embedder = CacheBackedEmbeddings.from_bytes_store(\n",
    "    core_embeddings_model,\n",
    "    store,\n",
    "    namespace = core_embeddings_model.model\n",
    ")"
   ]
  },
  {
   "cell_type": "code",
   "execution_count": 6,
   "metadata": {},
   "outputs": [
    {
     "name": "stdout",
     "output_type": "stream",
     "text": [
      "Requirement already satisfied: Chromadb in /home/eyaya/Desktop/Challenges/Week_6/Automatic_Prompt_Generation _RAG/ragenv/lib/python3.10/site-packages (0.4.22)\n",
      "Requirement already satisfied: build>=1.0.3 in /home/eyaya/Desktop/Challenges/Week_6/Automatic_Prompt_Generation _RAG/ragenv/lib/python3.10/site-packages (from Chromadb) (1.0.3)\n",
      "Requirement already satisfied: requests>=2.28 in /home/eyaya/Desktop/Challenges/Week_6/Automatic_Prompt_Generation _RAG/ragenv/lib/python3.10/site-packages (from Chromadb) (2.31.0)\n",
      "Requirement already satisfied: pydantic>=1.9 in /home/eyaya/Desktop/Challenges/Week_6/Automatic_Prompt_Generation _RAG/ragenv/lib/python3.10/site-packages (from Chromadb) (2.5.3)\n",
      "Requirement already satisfied: chroma-hnswlib==0.7.3 in /home/eyaya/Desktop/Challenges/Week_6/Automatic_Prompt_Generation _RAG/ragenv/lib/python3.10/site-packages (from Chromadb) (0.7.3)\n",
      "Requirement already satisfied: fastapi>=0.95.2 in /home/eyaya/Desktop/Challenges/Week_6/Automatic_Prompt_Generation _RAG/ragenv/lib/python3.10/site-packages (from Chromadb) (0.109.0)\n",
      "Requirement already satisfied: uvicorn>=0.18.3 in /home/eyaya/Desktop/Challenges/Week_6/Automatic_Prompt_Generation _RAG/ragenv/lib/python3.10/site-packages (from uvicorn[standard]>=0.18.3->Chromadb) (0.26.0)\n",
      "Requirement already satisfied: numpy>=1.22.5 in /home/eyaya/Desktop/Challenges/Week_6/Automatic_Prompt_Generation _RAG/ragenv/lib/python3.10/site-packages (from Chromadb) (1.26.3)\n",
      "Requirement already satisfied: posthog>=2.4.0 in /home/eyaya/Desktop/Challenges/Week_6/Automatic_Prompt_Generation _RAG/ragenv/lib/python3.10/site-packages (from Chromadb) (3.3.1)\n",
      "Requirement already satisfied: typing-extensions>=4.5.0 in /home/eyaya/Desktop/Challenges/Week_6/Automatic_Prompt_Generation _RAG/ragenv/lib/python3.10/site-packages (from Chromadb) (4.9.0)\n",
      "Requirement already satisfied: pulsar-client>=3.1.0 in /home/eyaya/Desktop/Challenges/Week_6/Automatic_Prompt_Generation _RAG/ragenv/lib/python3.10/site-packages (from Chromadb) (3.4.0)\n",
      "Requirement already satisfied: onnxruntime>=1.14.1 in /home/eyaya/Desktop/Challenges/Week_6/Automatic_Prompt_Generation _RAG/ragenv/lib/python3.10/site-packages (from Chromadb) (1.16.3)\n",
      "Requirement already satisfied: opentelemetry-api>=1.2.0 in /home/eyaya/Desktop/Challenges/Week_6/Automatic_Prompt_Generation _RAG/ragenv/lib/python3.10/site-packages (from Chromadb) (1.22.0)\n",
      "Requirement already satisfied: opentelemetry-exporter-otlp-proto-grpc>=1.2.0 in /home/eyaya/Desktop/Challenges/Week_6/Automatic_Prompt_Generation _RAG/ragenv/lib/python3.10/site-packages (from Chromadb) (1.22.0)\n",
      "Requirement already satisfied: opentelemetry-instrumentation-fastapi>=0.41b0 in /home/eyaya/Desktop/Challenges/Week_6/Automatic_Prompt_Generation _RAG/ragenv/lib/python3.10/site-packages (from Chromadb) (0.43b0)\n",
      "Requirement already satisfied: opentelemetry-sdk>=1.2.0 in /home/eyaya/Desktop/Challenges/Week_6/Automatic_Prompt_Generation _RAG/ragenv/lib/python3.10/site-packages (from Chromadb) (1.22.0)\n",
      "Requirement already satisfied: tokenizers>=0.13.2 in /home/eyaya/Desktop/Challenges/Week_6/Automatic_Prompt_Generation _RAG/ragenv/lib/python3.10/site-packages (from Chromadb) (0.15.0)\n",
      "Requirement already satisfied: pypika>=0.48.9 in /home/eyaya/Desktop/Challenges/Week_6/Automatic_Prompt_Generation _RAG/ragenv/lib/python3.10/site-packages (from Chromadb) (0.48.9)\n",
      "Requirement already satisfied: tqdm>=4.65.0 in /home/eyaya/Desktop/Challenges/Week_6/Automatic_Prompt_Generation _RAG/ragenv/lib/python3.10/site-packages (from Chromadb) (4.66.1)\n",
      "Requirement already satisfied: overrides>=7.3.1 in /home/eyaya/Desktop/Challenges/Week_6/Automatic_Prompt_Generation _RAG/ragenv/lib/python3.10/site-packages (from Chromadb) (7.4.0)\n",
      "Requirement already satisfied: importlib-resources in /home/eyaya/Desktop/Challenges/Week_6/Automatic_Prompt_Generation _RAG/ragenv/lib/python3.10/site-packages (from Chromadb) (6.1.1)\n",
      "Requirement already satisfied: grpcio>=1.58.0 in /home/eyaya/Desktop/Challenges/Week_6/Automatic_Prompt_Generation _RAG/ragenv/lib/python3.10/site-packages (from Chromadb) (1.60.0)\n",
      "Requirement already satisfied: bcrypt>=4.0.1 in /home/eyaya/Desktop/Challenges/Week_6/Automatic_Prompt_Generation _RAG/ragenv/lib/python3.10/site-packages (from Chromadb) (4.1.2)\n",
      "Requirement already satisfied: typer>=0.9.0 in /home/eyaya/Desktop/Challenges/Week_6/Automatic_Prompt_Generation _RAG/ragenv/lib/python3.10/site-packages (from Chromadb) (0.9.0)\n",
      "Requirement already satisfied: kubernetes>=28.1.0 in /home/eyaya/Desktop/Challenges/Week_6/Automatic_Prompt_Generation _RAG/ragenv/lib/python3.10/site-packages (from Chromadb) (29.0.0)\n",
      "Requirement already satisfied: tenacity>=8.2.3 in /home/eyaya/Desktop/Challenges/Week_6/Automatic_Prompt_Generation _RAG/ragenv/lib/python3.10/site-packages (from Chromadb) (8.2.3)\n",
      "Requirement already satisfied: PyYAML>=6.0.0 in /home/eyaya/Desktop/Challenges/Week_6/Automatic_Prompt_Generation _RAG/ragenv/lib/python3.10/site-packages (from Chromadb) (6.0.1)\n",
      "Requirement already satisfied: mmh3>=4.0.1 in /home/eyaya/Desktop/Challenges/Week_6/Automatic_Prompt_Generation _RAG/ragenv/lib/python3.10/site-packages (from Chromadb) (4.1.0)\n",
      "Requirement already satisfied: packaging>=19.0 in /home/eyaya/Desktop/Challenges/Week_6/Automatic_Prompt_Generation _RAG/ragenv/lib/python3.10/site-packages (from build>=1.0.3->Chromadb) (23.2)\n",
      "Requirement already satisfied: pyproject_hooks in /home/eyaya/Desktop/Challenges/Week_6/Automatic_Prompt_Generation _RAG/ragenv/lib/python3.10/site-packages (from build>=1.0.3->Chromadb) (1.0.0)\n",
      "Requirement already satisfied: tomli>=1.1.0 in /home/eyaya/Desktop/Challenges/Week_6/Automatic_Prompt_Generation _RAG/ragenv/lib/python3.10/site-packages (from build>=1.0.3->Chromadb) (2.0.1)\n",
      "Requirement already satisfied: starlette<0.36.0,>=0.35.0 in /home/eyaya/Desktop/Challenges/Week_6/Automatic_Prompt_Generation _RAG/ragenv/lib/python3.10/site-packages (from fastapi>=0.95.2->Chromadb) (0.35.1)\n",
      "Requirement already satisfied: certifi>=14.05.14 in /home/eyaya/Desktop/Challenges/Week_6/Automatic_Prompt_Generation _RAG/ragenv/lib/python3.10/site-packages (from kubernetes>=28.1.0->Chromadb) (2023.11.17)\n",
      "Requirement already satisfied: six>=1.9.0 in /home/eyaya/Desktop/Challenges/Week_6/Automatic_Prompt_Generation _RAG/ragenv/lib/python3.10/site-packages (from kubernetes>=28.1.0->Chromadb) (1.16.0)\n",
      "Requirement already satisfied: python-dateutil>=2.5.3 in /home/eyaya/Desktop/Challenges/Week_6/Automatic_Prompt_Generation _RAG/ragenv/lib/python3.10/site-packages (from kubernetes>=28.1.0->Chromadb) (2.8.2)\n",
      "Requirement already satisfied: google-auth>=1.0.1 in /home/eyaya/Desktop/Challenges/Week_6/Automatic_Prompt_Generation _RAG/ragenv/lib/python3.10/site-packages (from kubernetes>=28.1.0->Chromadb) (2.26.2)\n",
      "Requirement already satisfied: websocket-client!=0.40.0,!=0.41.*,!=0.42.*,>=0.32.0 in /home/eyaya/Desktop/Challenges/Week_6/Automatic_Prompt_Generation _RAG/ragenv/lib/python3.10/site-packages (from kubernetes>=28.1.0->Chromadb) (1.7.0)\n",
      "Requirement already satisfied: requests-oauthlib in /home/eyaya/Desktop/Challenges/Week_6/Automatic_Prompt_Generation _RAG/ragenv/lib/python3.10/site-packages (from kubernetes>=28.1.0->Chromadb) (1.3.1)\n",
      "Requirement already satisfied: oauthlib>=3.2.2 in /home/eyaya/Desktop/Challenges/Week_6/Automatic_Prompt_Generation _RAG/ragenv/lib/python3.10/site-packages (from kubernetes>=28.1.0->Chromadb) (3.2.2)\n",
      "Requirement already satisfied: urllib3>=1.24.2 in /home/eyaya/Desktop/Challenges/Week_6/Automatic_Prompt_Generation _RAG/ragenv/lib/python3.10/site-packages (from kubernetes>=28.1.0->Chromadb) (2.1.0)\n",
      "Requirement already satisfied: coloredlogs in /home/eyaya/Desktop/Challenges/Week_6/Automatic_Prompt_Generation _RAG/ragenv/lib/python3.10/site-packages (from onnxruntime>=1.14.1->Chromadb) (15.0.1)\n",
      "Requirement already satisfied: flatbuffers in /home/eyaya/Desktop/Challenges/Week_6/Automatic_Prompt_Generation _RAG/ragenv/lib/python3.10/site-packages (from onnxruntime>=1.14.1->Chromadb) (23.5.26)\n",
      "Requirement already satisfied: protobuf in /home/eyaya/Desktop/Challenges/Week_6/Automatic_Prompt_Generation _RAG/ragenv/lib/python3.10/site-packages (from onnxruntime>=1.14.1->Chromadb) (4.25.2)\n",
      "Requirement already satisfied: sympy in /home/eyaya/Desktop/Challenges/Week_6/Automatic_Prompt_Generation _RAG/ragenv/lib/python3.10/site-packages (from onnxruntime>=1.14.1->Chromadb) (1.12)\n",
      "Requirement already satisfied: deprecated>=1.2.6 in /home/eyaya/Desktop/Challenges/Week_6/Automatic_Prompt_Generation _RAG/ragenv/lib/python3.10/site-packages (from opentelemetry-api>=1.2.0->Chromadb) (1.2.14)\n",
      "Requirement already satisfied: importlib-metadata<7.0,>=6.0 in /home/eyaya/Desktop/Challenges/Week_6/Automatic_Prompt_Generation _RAG/ragenv/lib/python3.10/site-packages (from opentelemetry-api>=1.2.0->Chromadb) (6.11.0)\n",
      "Requirement already satisfied: backoff<3.0.0,>=1.10.0 in /home/eyaya/Desktop/Challenges/Week_6/Automatic_Prompt_Generation _RAG/ragenv/lib/python3.10/site-packages (from opentelemetry-exporter-otlp-proto-grpc>=1.2.0->Chromadb) (2.2.1)\n",
      "Requirement already satisfied: googleapis-common-protos~=1.52 in /home/eyaya/Desktop/Challenges/Week_6/Automatic_Prompt_Generation _RAG/ragenv/lib/python3.10/site-packages (from opentelemetry-exporter-otlp-proto-grpc>=1.2.0->Chromadb) (1.62.0)\n",
      "Requirement already satisfied: opentelemetry-exporter-otlp-proto-common==1.22.0 in /home/eyaya/Desktop/Challenges/Week_6/Automatic_Prompt_Generation _RAG/ragenv/lib/python3.10/site-packages (from opentelemetry-exporter-otlp-proto-grpc>=1.2.0->Chromadb) (1.22.0)\n",
      "Requirement already satisfied: opentelemetry-proto==1.22.0 in /home/eyaya/Desktop/Challenges/Week_6/Automatic_Prompt_Generation _RAG/ragenv/lib/python3.10/site-packages (from opentelemetry-exporter-otlp-proto-grpc>=1.2.0->Chromadb) (1.22.0)\n",
      "Requirement already satisfied: opentelemetry-instrumentation-asgi==0.43b0 in /home/eyaya/Desktop/Challenges/Week_6/Automatic_Prompt_Generation _RAG/ragenv/lib/python3.10/site-packages (from opentelemetry-instrumentation-fastapi>=0.41b0->Chromadb) (0.43b0)\n",
      "Requirement already satisfied: opentelemetry-instrumentation==0.43b0 in /home/eyaya/Desktop/Challenges/Week_6/Automatic_Prompt_Generation _RAG/ragenv/lib/python3.10/site-packages (from opentelemetry-instrumentation-fastapi>=0.41b0->Chromadb) (0.43b0)\n",
      "Requirement already satisfied: opentelemetry-semantic-conventions==0.43b0 in /home/eyaya/Desktop/Challenges/Week_6/Automatic_Prompt_Generation _RAG/ragenv/lib/python3.10/site-packages (from opentelemetry-instrumentation-fastapi>=0.41b0->Chromadb) (0.43b0)\n",
      "Requirement already satisfied: opentelemetry-util-http==0.43b0 in /home/eyaya/Desktop/Challenges/Week_6/Automatic_Prompt_Generation _RAG/ragenv/lib/python3.10/site-packages (from opentelemetry-instrumentation-fastapi>=0.41b0->Chromadb) (0.43b0)\n",
      "Requirement already satisfied: setuptools>=16.0 in /home/eyaya/Desktop/Challenges/Week_6/Automatic_Prompt_Generation _RAG/ragenv/lib/python3.10/site-packages (from opentelemetry-instrumentation==0.43b0->opentelemetry-instrumentation-fastapi>=0.41b0->Chromadb) (69.0.3)\n",
      "Requirement already satisfied: wrapt<2.0.0,>=1.0.0 in /home/eyaya/Desktop/Challenges/Week_6/Automatic_Prompt_Generation _RAG/ragenv/lib/python3.10/site-packages (from opentelemetry-instrumentation==0.43b0->opentelemetry-instrumentation-fastapi>=0.41b0->Chromadb) (1.16.0)\n",
      "Requirement already satisfied: asgiref~=3.0 in /home/eyaya/Desktop/Challenges/Week_6/Automatic_Prompt_Generation _RAG/ragenv/lib/python3.10/site-packages (from opentelemetry-instrumentation-asgi==0.43b0->opentelemetry-instrumentation-fastapi>=0.41b0->Chromadb) (3.7.2)\n",
      "Requirement already satisfied: monotonic>=1.5 in /home/eyaya/Desktop/Challenges/Week_6/Automatic_Prompt_Generation _RAG/ragenv/lib/python3.10/site-packages (from posthog>=2.4.0->Chromadb) (1.6)\n",
      "Requirement already satisfied: annotated-types>=0.4.0 in /home/eyaya/Desktop/Challenges/Week_6/Automatic_Prompt_Generation _RAG/ragenv/lib/python3.10/site-packages (from pydantic>=1.9->Chromadb) (0.6.0)\n",
      "Requirement already satisfied: pydantic-core==2.14.6 in /home/eyaya/Desktop/Challenges/Week_6/Automatic_Prompt_Generation _RAG/ragenv/lib/python3.10/site-packages (from pydantic>=1.9->Chromadb) (2.14.6)\n",
      "Requirement already satisfied: charset-normalizer<4,>=2 in /home/eyaya/Desktop/Challenges/Week_6/Automatic_Prompt_Generation _RAG/ragenv/lib/python3.10/site-packages (from requests>=2.28->Chromadb) (3.3.2)\n",
      "Requirement already satisfied: idna<4,>=2.5 in /home/eyaya/Desktop/Challenges/Week_6/Automatic_Prompt_Generation _RAG/ragenv/lib/python3.10/site-packages (from requests>=2.28->Chromadb) (3.6)\n",
      "Requirement already satisfied: huggingface_hub<1.0,>=0.16.4 in /home/eyaya/Desktop/Challenges/Week_6/Automatic_Prompt_Generation _RAG/ragenv/lib/python3.10/site-packages (from tokenizers>=0.13.2->Chromadb) (0.20.2)\n",
      "Requirement already satisfied: click<9.0.0,>=7.1.1 in /home/eyaya/Desktop/Challenges/Week_6/Automatic_Prompt_Generation _RAG/ragenv/lib/python3.10/site-packages (from typer>=0.9.0->Chromadb) (8.1.7)\n",
      "Requirement already satisfied: h11>=0.8 in /home/eyaya/Desktop/Challenges/Week_6/Automatic_Prompt_Generation _RAG/ragenv/lib/python3.10/site-packages (from uvicorn>=0.18.3->uvicorn[standard]>=0.18.3->Chromadb) (0.14.0)\n",
      "Requirement already satisfied: httptools>=0.5.0 in /home/eyaya/Desktop/Challenges/Week_6/Automatic_Prompt_Generation _RAG/ragenv/lib/python3.10/site-packages (from uvicorn[standard]>=0.18.3->Chromadb) (0.6.1)\n",
      "Requirement already satisfied: python-dotenv>=0.13 in /home/eyaya/Desktop/Challenges/Week_6/Automatic_Prompt_Generation _RAG/ragenv/lib/python3.10/site-packages (from uvicorn[standard]>=0.18.3->Chromadb) (1.0.0)\n",
      "Requirement already satisfied: uvloop!=0.15.0,!=0.15.1,>=0.14.0 in /home/eyaya/Desktop/Challenges/Week_6/Automatic_Prompt_Generation _RAG/ragenv/lib/python3.10/site-packages (from uvicorn[standard]>=0.18.3->Chromadb) (0.19.0)\n",
      "Requirement already satisfied: watchfiles>=0.13 in /home/eyaya/Desktop/Challenges/Week_6/Automatic_Prompt_Generation _RAG/ragenv/lib/python3.10/site-packages (from uvicorn[standard]>=0.18.3->Chromadb) (0.21.0)\n",
      "Requirement already satisfied: websockets>=10.4 in /home/eyaya/Desktop/Challenges/Week_6/Automatic_Prompt_Generation _RAG/ragenv/lib/python3.10/site-packages (from uvicorn[standard]>=0.18.3->Chromadb) (12.0)\n",
      "Requirement already satisfied: cachetools<6.0,>=2.0.0 in /home/eyaya/Desktop/Challenges/Week_6/Automatic_Prompt_Generation _RAG/ragenv/lib/python3.10/site-packages (from google-auth>=1.0.1->kubernetes>=28.1.0->Chromadb) (5.3.2)\n",
      "Requirement already satisfied: pyasn1-modules>=0.2.1 in /home/eyaya/Desktop/Challenges/Week_6/Automatic_Prompt_Generation _RAG/ragenv/lib/python3.10/site-packages (from google-auth>=1.0.1->kubernetes>=28.1.0->Chromadb) (0.3.0)\n",
      "Requirement already satisfied: rsa<5,>=3.1.4 in /home/eyaya/Desktop/Challenges/Week_6/Automatic_Prompt_Generation _RAG/ragenv/lib/python3.10/site-packages (from google-auth>=1.0.1->kubernetes>=28.1.0->Chromadb) (4.9)\n",
      "Requirement already satisfied: filelock in /home/eyaya/Desktop/Challenges/Week_6/Automatic_Prompt_Generation _RAG/ragenv/lib/python3.10/site-packages (from huggingface_hub<1.0,>=0.16.4->tokenizers>=0.13.2->Chromadb) (3.13.1)\n",
      "Requirement already satisfied: fsspec>=2023.5.0 in /home/eyaya/Desktop/Challenges/Week_6/Automatic_Prompt_Generation _RAG/ragenv/lib/python3.10/site-packages (from huggingface_hub<1.0,>=0.16.4->tokenizers>=0.13.2->Chromadb) (2023.10.0)\n",
      "Requirement already satisfied: zipp>=0.5 in /home/eyaya/Desktop/Challenges/Week_6/Automatic_Prompt_Generation _RAG/ragenv/lib/python3.10/site-packages (from importlib-metadata<7.0,>=6.0->opentelemetry-api>=1.2.0->Chromadb) (3.17.0)\n",
      "Requirement already satisfied: anyio<5,>=3.4.0 in /home/eyaya/Desktop/Challenges/Week_6/Automatic_Prompt_Generation _RAG/ragenv/lib/python3.10/site-packages (from starlette<0.36.0,>=0.35.0->fastapi>=0.95.2->Chromadb) (4.2.0)\n",
      "Requirement already satisfied: humanfriendly>=9.1 in /home/eyaya/Desktop/Challenges/Week_6/Automatic_Prompt_Generation _RAG/ragenv/lib/python3.10/site-packages (from coloredlogs->onnxruntime>=1.14.1->Chromadb) (10.0)\n",
      "Requirement already satisfied: mpmath>=0.19 in /home/eyaya/Desktop/Challenges/Week_6/Automatic_Prompt_Generation _RAG/ragenv/lib/python3.10/site-packages (from sympy->onnxruntime>=1.14.1->Chromadb) (1.3.0)\n",
      "Requirement already satisfied: sniffio>=1.1 in /home/eyaya/Desktop/Challenges/Week_6/Automatic_Prompt_Generation _RAG/ragenv/lib/python3.10/site-packages (from anyio<5,>=3.4.0->starlette<0.36.0,>=0.35.0->fastapi>=0.95.2->Chromadb) (1.3.0)\n",
      "Requirement already satisfied: exceptiongroup>=1.0.2 in /home/eyaya/Desktop/Challenges/Week_6/Automatic_Prompt_Generation _RAG/ragenv/lib/python3.10/site-packages (from anyio<5,>=3.4.0->starlette<0.36.0,>=0.35.0->fastapi>=0.95.2->Chromadb) (1.2.0)\n",
      "Requirement already satisfied: pyasn1<0.6.0,>=0.4.6 in /home/eyaya/Desktop/Challenges/Week_6/Automatic_Prompt_Generation _RAG/ragenv/lib/python3.10/site-packages (from pyasn1-modules>=0.2.1->google-auth>=1.0.1->kubernetes>=28.1.0->Chromadb) (0.5.1)\n",
      "Note: you may need to restart the kernel to use updated packages.\n"
     ]
    }
   ],
   "source": [
    "%pip install Chromadb"
   ]
  },
  {
   "cell_type": "code",
   "execution_count": 7,
   "metadata": {},
   "outputs": [
    {
     "name": "stdout",
     "output_type": "stream",
     "text": [
      "Requirement already satisfied: langchain-openai in /home/eyaya/Desktop/Challenges/Week_6/Automatic_Prompt_Generation _RAG/ragenv/lib/python3.10/site-packages (0.0.2.post1)\n",
      "Requirement already satisfied: langchain-core<0.2,>=0.1.7 in /home/eyaya/Desktop/Challenges/Week_6/Automatic_Prompt_Generation _RAG/ragenv/lib/python3.10/site-packages (from langchain-openai) (0.1.10)\n",
      "Requirement already satisfied: numpy<2,>=1 in /home/eyaya/Desktop/Challenges/Week_6/Automatic_Prompt_Generation _RAG/ragenv/lib/python3.10/site-packages (from langchain-openai) (1.26.3)\n",
      "Requirement already satisfied: openai<2.0.0,>=1.6.1 in /home/eyaya/Desktop/Challenges/Week_6/Automatic_Prompt_Generation _RAG/ragenv/lib/python3.10/site-packages (from langchain-openai) (1.7.2)\n",
      "Requirement already satisfied: tiktoken<0.6.0,>=0.5.2 in /home/eyaya/Desktop/Challenges/Week_6/Automatic_Prompt_Generation _RAG/ragenv/lib/python3.10/site-packages (from langchain-openai) (0.5.2)\n",
      "Requirement already satisfied: PyYAML>=5.3 in /home/eyaya/Desktop/Challenges/Week_6/Automatic_Prompt_Generation _RAG/ragenv/lib/python3.10/site-packages (from langchain-core<0.2,>=0.1.7->langchain-openai) (6.0.1)\n",
      "Requirement already satisfied: anyio<5,>=3 in /home/eyaya/Desktop/Challenges/Week_6/Automatic_Prompt_Generation _RAG/ragenv/lib/python3.10/site-packages (from langchain-core<0.2,>=0.1.7->langchain-openai) (4.2.0)\n",
      "Requirement already satisfied: jsonpatch<2.0,>=1.33 in /home/eyaya/Desktop/Challenges/Week_6/Automatic_Prompt_Generation _RAG/ragenv/lib/python3.10/site-packages (from langchain-core<0.2,>=0.1.7->langchain-openai) (1.33)\n",
      "Requirement already satisfied: langsmith<0.1.0,>=0.0.63 in /home/eyaya/Desktop/Challenges/Week_6/Automatic_Prompt_Generation _RAG/ragenv/lib/python3.10/site-packages (from langchain-core<0.2,>=0.1.7->langchain-openai) (0.0.80)\n",
      "Requirement already satisfied: packaging<24.0,>=23.2 in /home/eyaya/Desktop/Challenges/Week_6/Automatic_Prompt_Generation _RAG/ragenv/lib/python3.10/site-packages (from langchain-core<0.2,>=0.1.7->langchain-openai) (23.2)\n",
      "Requirement already satisfied: pydantic<3,>=1 in /home/eyaya/Desktop/Challenges/Week_6/Automatic_Prompt_Generation _RAG/ragenv/lib/python3.10/site-packages (from langchain-core<0.2,>=0.1.7->langchain-openai) (2.5.3)\n",
      "Requirement already satisfied: requests<3,>=2 in /home/eyaya/Desktop/Challenges/Week_6/Automatic_Prompt_Generation _RAG/ragenv/lib/python3.10/site-packages (from langchain-core<0.2,>=0.1.7->langchain-openai) (2.31.0)\n",
      "Requirement already satisfied: tenacity<9.0.0,>=8.1.0 in /home/eyaya/Desktop/Challenges/Week_6/Automatic_Prompt_Generation _RAG/ragenv/lib/python3.10/site-packages (from langchain-core<0.2,>=0.1.7->langchain-openai) (8.2.3)\n",
      "Requirement already satisfied: distro<2,>=1.7.0 in /home/eyaya/Desktop/Challenges/Week_6/Automatic_Prompt_Generation _RAG/ragenv/lib/python3.10/site-packages (from openai<2.0.0,>=1.6.1->langchain-openai) (1.9.0)\n",
      "Requirement already satisfied: httpx<1,>=0.23.0 in /home/eyaya/Desktop/Challenges/Week_6/Automatic_Prompt_Generation _RAG/ragenv/lib/python3.10/site-packages (from openai<2.0.0,>=1.6.1->langchain-openai) (0.26.0)\n",
      "Requirement already satisfied: sniffio in /home/eyaya/Desktop/Challenges/Week_6/Automatic_Prompt_Generation _RAG/ragenv/lib/python3.10/site-packages (from openai<2.0.0,>=1.6.1->langchain-openai) (1.3.0)\n",
      "Requirement already satisfied: tqdm>4 in /home/eyaya/Desktop/Challenges/Week_6/Automatic_Prompt_Generation _RAG/ragenv/lib/python3.10/site-packages (from openai<2.0.0,>=1.6.1->langchain-openai) (4.66.1)\n",
      "Requirement already satisfied: typing-extensions<5,>=4.7 in /home/eyaya/Desktop/Challenges/Week_6/Automatic_Prompt_Generation _RAG/ragenv/lib/python3.10/site-packages (from openai<2.0.0,>=1.6.1->langchain-openai) (4.9.0)\n",
      "Requirement already satisfied: regex>=2022.1.18 in /home/eyaya/Desktop/Challenges/Week_6/Automatic_Prompt_Generation _RAG/ragenv/lib/python3.10/site-packages (from tiktoken<0.6.0,>=0.5.2->langchain-openai) (2023.12.25)\n",
      "Requirement already satisfied: idna>=2.8 in /home/eyaya/Desktop/Challenges/Week_6/Automatic_Prompt_Generation _RAG/ragenv/lib/python3.10/site-packages (from anyio<5,>=3->langchain-core<0.2,>=0.1.7->langchain-openai) (3.6)\n",
      "Requirement already satisfied: exceptiongroup>=1.0.2 in /home/eyaya/Desktop/Challenges/Week_6/Automatic_Prompt_Generation _RAG/ragenv/lib/python3.10/site-packages (from anyio<5,>=3->langchain-core<0.2,>=0.1.7->langchain-openai) (1.2.0)\n",
      "Requirement already satisfied: certifi in /home/eyaya/Desktop/Challenges/Week_6/Automatic_Prompt_Generation _RAG/ragenv/lib/python3.10/site-packages (from httpx<1,>=0.23.0->openai<2.0.0,>=1.6.1->langchain-openai) (2023.11.17)\n",
      "Requirement already satisfied: httpcore==1.* in /home/eyaya/Desktop/Challenges/Week_6/Automatic_Prompt_Generation _RAG/ragenv/lib/python3.10/site-packages (from httpx<1,>=0.23.0->openai<2.0.0,>=1.6.1->langchain-openai) (1.0.2)\n",
      "Requirement already satisfied: h11<0.15,>=0.13 in /home/eyaya/Desktop/Challenges/Week_6/Automatic_Prompt_Generation _RAG/ragenv/lib/python3.10/site-packages (from httpcore==1.*->httpx<1,>=0.23.0->openai<2.0.0,>=1.6.1->langchain-openai) (0.14.0)\n",
      "Requirement already satisfied: jsonpointer>=1.9 in /home/eyaya/Desktop/Challenges/Week_6/Automatic_Prompt_Generation _RAG/ragenv/lib/python3.10/site-packages (from jsonpatch<2.0,>=1.33->langchain-core<0.2,>=0.1.7->langchain-openai) (2.4)\n",
      "Requirement already satisfied: annotated-types>=0.4.0 in /home/eyaya/Desktop/Challenges/Week_6/Automatic_Prompt_Generation _RAG/ragenv/lib/python3.10/site-packages (from pydantic<3,>=1->langchain-core<0.2,>=0.1.7->langchain-openai) (0.6.0)\n",
      "Requirement already satisfied: pydantic-core==2.14.6 in /home/eyaya/Desktop/Challenges/Week_6/Automatic_Prompt_Generation _RAG/ragenv/lib/python3.10/site-packages (from pydantic<3,>=1->langchain-core<0.2,>=0.1.7->langchain-openai) (2.14.6)\n",
      "Requirement already satisfied: charset-normalizer<4,>=2 in /home/eyaya/Desktop/Challenges/Week_6/Automatic_Prompt_Generation _RAG/ragenv/lib/python3.10/site-packages (from requests<3,>=2->langchain-core<0.2,>=0.1.7->langchain-openai) (3.3.2)\n",
      "Requirement already satisfied: urllib3<3,>=1.21.1 in /home/eyaya/Desktop/Challenges/Week_6/Automatic_Prompt_Generation _RAG/ragenv/lib/python3.10/site-packages (from requests<3,>=2->langchain-core<0.2,>=0.1.7->langchain-openai) (2.1.0)\n",
      "Note: you may need to restart the kernel to use updated packages.\n"
     ]
    }
   ],
   "source": [
    "%pip install -U langchain-openai"
   ]
  },
  {
   "cell_type": "code",
   "execution_count": 8,
   "metadata": {},
   "outputs": [],
   "source": [
    "\n",
    "vectorstore = Chroma.from_documents(docs, embedder, persist_directory=\"./cachce/\")\n",
    "#base_retriever = vectorstore.as_retriever(search_kwargs={\"k\" : 2})\n",
    "# instantiate a retriever\n",
    "retriever = vectorstore.as_retriever()\n"
   ]
  },
  {
   "cell_type": "code",
   "execution_count": 19,
   "metadata": {},
   "outputs": [],
   "source": [
    "template = '''\n",
    "Break down the prompt genetation step by step based on the following prompt pair examples \"Linux Terminal\",\"answer\": \"I want you to act as a linux terminal. I will type commands and you will reply with what the terminal should show. I want you to only reply with the terminal output inside one unique code block, and nothing else. do not write explanations. do not type commands unless I instruct you to do so. when i need to tell you something in english, i will do so by putting text inside curly brackets [like this]\",\n",
    "\n",
    "    \"English Translator and Improver\", \"I want you to act as an English translator, spelling corrector and improver. I will speak to you in any language and you will detect the language, translate it and answer in the corrected and improved version of my text, in English. I want you to replace my simplified A0-level words and sentences with more beautiful and elegant, upper level English words and sentences. Keep the meaning same, but make them more literary. I want you to only reply the correction, the improvements and nothing else, do not write explanations.\",\n",
    "\n",
    "    \"`position` Interviewer\",\"I want you to act as an interviewer. I will be the candidate and you will ask me the interview questions for the `position` position. I want you to only reply as the interviewer. Do not write all the conservation at once. I want you to only do the interview with me. Ask me the questions and wait for my answers. Do not write explanations. Ask me the questions one by one like an interviewer does and wait for my answers. \",\n",
    "\n",
    "    \"JavaScript Console\",\"I want you to act as a javascript console. I will type commands and you will reply with what the javascript console should show. I want you to only reply with the terminal output inside one unique code block, and nothing else. do not write explanations. do not type commands unless I instruct you to do so. when i need to tell you something in english, i will do so by putting text inside curly brackets [like this]. \",\n",
    "    \n",
    "    \"Excel Sheet\", \"I want you to act as a text based excel. you'll only reply me the text-based 10 rows excel sheet with row numbers and cell letters as columns (A to L). First column header should be empty to reference row number. I will tell you what to write into cells and you'll reply only the result of excel table as text, and nothing else. Do not write explanations. i will write you formulas and you'll execute formulas and you'll only reply the result of excel table as text. \"\n",
    "\n",
    "Use these prompt pair examples only as guidlines to create an effective prompt for the next topic. even if the topic is mensioned before. You will create only prompt for it and not act on the previous description. if the topic is mensioned already, do not use the prompt which you were given, change it.\n",
    "\n",
    "\n",
    "### CONTEXT\n",
    "{context}\n",
    "\\n\n",
    "<bot>:\n",
    "'''"
   ]
  },
  {
   "cell_type": "code",
   "execution_count": 20,
   "metadata": {},
   "outputs": [],
   "source": [
    "prompt = PromptTemplate.from_template(template).format(\n",
    "    context = retriever\n",
    ")\n"
   ]
  },
  {
   "cell_type": "code",
   "execution_count": 21,
   "metadata": {},
   "outputs": [],
   "source": [
    "prompt = ChatPromptTemplate.from_template(prompt)"
   ]
  },
  {
   "cell_type": "code",
   "execution_count": 22,
   "metadata": {},
   "outputs": [],
   "source": [
    "llm = ChatOpenAI(openai_api_key=OPENAI_API_KEY)"
   ]
  },
  {
   "cell_type": "code",
   "execution_count": 23,
   "metadata": {},
   "outputs": [],
   "source": [
    "chain = (\n",
    "    {\"context\": retriever, \"question\": RunnablePassthrough()}\n",
    "    |prompt\n",
    "    | llm\n",
    "    | StrOutputParser()\n",
    "    )"
   ]
  },
  {
   "cell_type": "code",
   "execution_count": 24,
   "metadata": {},
   "outputs": [],
   "source": [
    "query = 'Sql query assistant'"
   ]
  },
  {
   "cell_type": "code",
   "execution_count": 25,
   "metadata": {},
   "outputs": [],
   "source": [
    "response = chain.invoke('Sql query Assistant')"
   ]
  },
  {
   "cell_type": "code",
   "execution_count": 26,
   "metadata": {},
   "outputs": [
    {
     "data": {
      "text/plain": [
       "'\"I want you to act as a Chroma vector store. I will provide you with words or phrases, and you will retrieve the corresponding vectors from the Chroma vector store. I want you to reply with the retrieved vectors in a code block format, and nothing else. Do not write explanations. Do not provide additional information about the vectors. Simply retrieve and reply with the vectors.\"'"
      ]
     },
     "execution_count": 26,
     "metadata": {},
     "output_type": "execute_result"
    }
   ],
   "source": [
    "response"
   ]
  },
  {
   "cell_type": "code",
   "execution_count": null,
   "metadata": {},
   "outputs": [],
   "source": [
    "\n",
    "def text_split(documents: TextLoader):\n",
    "    text_splitter = RecursiveCharacterTextSplitter(chunk_size=1000, chunk_overlap=0)\n",
    "    texts = text_splitter.split_documents(documents)\n",
    "    return texts\n",
    "\n",
    "\n",
    "def embeddings(texts: List[Document]):\n",
    "    embeddings = OpenAIEmbeddings(openai_api_key=OPENAI_API_KEY)\n",
    "    vectordb = Chroma.from_documents(texts, embeddings)\n",
    "    return vectordb\n"
   ]
  },
  {
   "cell_type": "code",
   "execution_count": null,
   "metadata": {},
   "outputs": [],
   "source": [
    "loader = TextLoader('../example.txt')\n",
    "documents = loader.load()\n",
    "texts = text_split(documents)\n",
    "vectordb = embeddings(texts)"
   ]
  },
  {
   "cell_type": "code",
   "execution_count": 108,
   "metadata": {},
   "outputs": [],
   "source": [
    "template = ''' {prefix}\n",
    "### CONTEXT\n",
    "{context}\n",
    "\\n\n",
    "<bot>:\n",
    "'''\n",
    "\n",
    "prompt = PromptTemplate.from_template(template)\n",
    "formatted_prompt = prompt.format(\n",
    "    context=retriever,\n",
    "    prefix=response\n",
    ")"
   ]
  },
  {
   "cell_type": "code",
   "execution_count": 110,
   "metadata": {},
   "outputs": [],
   "source": [
    "prompt = ChatPromptTemplate.from_template(formatted_prompt)"
   ]
  },
  {
   "cell_type": "code",
   "execution_count": 112,
   "metadata": {},
   "outputs": [],
   "source": [
    "\n",
    "llm=OpenAI(\n",
    "    openai_api_key=OPENAI_API_KEY,\n",
    "    temperature=0.7\n",
    "    )\n"
   ]
  },
  {
   "cell_type": "code",
   "execution_count": 113,
   "metadata": {},
   "outputs": [],
   "source": [
    "retriever=vectordb.as_retriever()\n",
    "chain = (\n",
    "    {\"context\": retriever, \"question\": RunnablePassthrough()}\n",
    "    |prompt\n",
    "    | llm\n",
    "    | StrOutputParser()\n",
    "    )"
   ]
  },
  {
   "cell_type": "code",
   "execution_count": 114,
   "metadata": {},
   "outputs": [
    {
     "data": {
      "text/plain": [
       "\"Sure, I will do my best to answer your questions about the history of mathematics. I will only provide information related to this topic, and I will wait for your response before moving on to the next question.\\n\\nFirst, let's define mathematics. It is the study of numbers, quantities, and shapes, as well as their relationships and operations. It is considered one of the oldest and most fundamental sciences, with its roots dating back to ancient civilizations such as Egypt, Mesopotamia, and Greece.\\n\\nNow, let's move on to the history of mathematics. The earliest evidence of mathematical activities can be traced back to prehistoric times, with the use of counting and tallying systems. However, it was the ancient Egyptians who first developed a formal system of mathematics around 3000 BC, primarily for measuring land and constructing buildings.\\n\\nNext, the Mesopotamians, who lived in the area now known as Iraq, made significant contributions to mathematics. They developed a sexagesimal system of counting, which is based on the number 60, and also created the first known written mathematical texts.\\n\\nAround 600 BC, the ancient Greeks also began to make important contributions to mathematics. The philosopher Pythagoras is known for his famous theorem, which states that in a right-\""
      ]
     },
     "execution_count": 114,
     "metadata": {},
     "output_type": "execute_result"
    }
   ],
   "source": [
    "chain.invoke(\"Can you tell me the formula for Linear Regression\")"
   ]
  },
  {
   "cell_type": "code",
   "execution_count": null,
   "metadata": {},
   "outputs": [],
   "source": []
  }
 ],
 "metadata": {
  "kernelspec": {
   "display_name": "ragenv",
   "language": "python",
   "name": "python3"
  },
  "language_info": {
   "codemirror_mode": {
    "name": "ipython",
    "version": 3
   },
   "file_extension": ".py",
   "mimetype": "text/x-python",
   "name": "python",
   "nbconvert_exporter": "python",
   "pygments_lexer": "ipython3",
   "version": "3.10.12"
  }
 },
 "nbformat": 4,
 "nbformat_minor": 2
}
